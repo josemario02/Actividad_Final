{
  "cells": [
    {
      "cell_type": "markdown",
      "metadata": {
        "id": "view-in-github",
        "colab_type": "text"
      },
      "source": [
        "<a href=\"https://colab.research.google.com/github/josemario02/Actividad_Final/blob/main/Empresa.ipynb\" target=\"_parent\"><img src=\"https://colab.research.google.com/assets/colab-badge.svg\" alt=\"Open In Colab\"/></a>"
      ]
    },
    {
      "cell_type": "code",
      "source": [
        "class Employee:\n",
        "    new_id = 1\n",
        "\n",
        "    def __init__(self):\n",
        "        self.id = Employee.new_id\n",
        "        Employee.new_id += 1\n",
        "\n",
        "    def say_id(self):\n",
        "        print(\"Employee with id \", self.id, \"added sucessfully to the meting!\")\n",
        "\n",
        "\n",
        "class Admin(Employee):\n",
        "    def say_id(self):\n",
        "        print('el admin es roland')\n",
        "        super().say_id()\n",
        "\n",
        "\n",
        "class Manager(Admin):\n",
        "    def say_id(self):\n",
        "        print('the manaegr is josemario02')\n",
        "        super().say_id()\n",
        "\n",
        "\n",
        "class User:\n",
        "    def __init__(self, username, role):\n",
        "        self.username = username\n",
        "        self.role = role\n",
        "\n",
        "    def say_user_info(self):\n",
        "        print(\"Username:\", self.username, \"| Role:\", self.role)\n",
        "\n",
        "\n",
        "class Meeting:\n",
        "    def __init__(self):\n",
        "        self.attendees = []\n",
        "\n",
        "    def __add__(self, other):\n",
        "        self.attendees.append(other)\n",
        "        print(\"Added attendee with ID:\", other.id, \"successfully.\")\n",
        "\n",
        "    def __len__(self):\n",
        "        return len(self.attendees)\n",
        "\n",
        "\n",
        "e1 = Employee()\n",
        "e2 = Employee()\n",
        "e3 = Admin()\n",
        "e4 = Manager()\n",
        "\n",
        "e1.say_id()\n",
        "e2.say_id()\n",
        "e3.say_id()\n",
        "e4.say_id()\n",
        "\n",
        "class Admin(Employee, User):\n",
        "    def __init__(self):\n",
        "        Employee.__init__(self)\n",
        "        User.__init__(self, str(self.id), \"Admin\")\n",
        "\n",
        "    def say_id(self):\n",
        "        print(\"I am an Admin\")\n",
        "        super().say_id()\n",
        "\n",
        "e3 = Admin()\n",
        "e3.say_user_info()\n",
        "\n",
        "meeting = [Employee(), Admin(), Manager()]\n",
        "for attendee in meeting:\n",
        "    attendee.say_id()\n",
        "\n",
        "m1 = Meeting()\n",
        "m1 + e1\n",
        "m1 + e2\n",
        "m1 + e3\n",
        "print(\"Meeting size:\", len(m1))"
      ],
      "metadata": {
        "id": "kXyumLcgiZb8"
      },
      "execution_count": null,
      "outputs": []
    },
    {
      "cell_type": "markdown",
      "source": [
        "Presentado por Jose Mario Ramos Araujo (jose.ramosa@upb.edu.co)"
      ],
      "metadata": {
        "id": "sEi5SrW6lAwj"
      }
    }
  ],
  "metadata": {
    "colab": {
      "name": "Te damos la bienvenida a Colaboratory",
      "provenance": [],
      "include_colab_link": true
    },
    "kernelspec": {
      "display_name": "Python 3",
      "name": "python3"
    }
  },
  "nbformat": 4,
  "nbformat_minor": 0
}