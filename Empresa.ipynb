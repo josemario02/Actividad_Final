{
  "cells": [
    {
      "cell_type": "markdown",
      "metadata": {
        "id": "view-in-github",
        "colab_type": "text"
      },
      "source": [
        "<a href=\"https://colab.research.google.com/github/josemario02/Actividad_Final/blob/main/Empresa.ipynb\" target=\"_parent\"><img src=\"https://colab.research.google.com/assets/colab-badge.svg\" alt=\"Open In Colab\"/></a>"
      ]
    },
    {
      "cell_type": "code",
      "source": [
        "from abc import ABC, abstractmethod\n",
        "\n",
        "class AbstractEmployee(ABC):\n",
        "    new_id = 1\n",
        "\n",
        "    def __init__(self):\n",
        "        self.id = AbstractEmployee.new_id\n",
        "        AbstractEmployee.new_id += 1\n",
        "\n",
        "    @abstractmethod\n",
        "    def say_id(self):\n",
        "        pass\n",
        "\n",
        "class Employee(AbstractEmployee):\n",
        "    new_id = 1\n",
        "\n",
        "    def __init__(self, name=None):\n",
        "        super().__init__()\n",
        "        self.__company = \"Mr.Jabon\"\n",
        "        self._name = name\n",
        "\n",
        "    def say_id(self):\n",
        "        print(\"My id is\", self.id)\n",
        "\n",
        "    def get_name(self):\n",
        "        return self._name\n",
        "\n",
        "    def set_name(self, name):\n",
        "        self._name = name\n",
        "\n",
        "    def del_name(self):\n",
        "        del self._name\n",
        "    def del_name(self):\n",
        "        print(f\"_{self._name} deleted\")\n",
        "        del self._name\n",
        "\n",
        "class User:\n",
        "    def __init__(self, username, role):\n",
        "        self.username = username\n",
        "        self.role = role\n",
        "\n",
        "    def say_user_info(self):\n",
        "        print(\"Username:\", self.username)\n",
        "        print(\"Role:\", self.role)\n",
        "\n",
        "class Admin(Employee, User):\n",
        "    def __init__(self, name=None):\n",
        "        super().__init__(name)\n",
        "        User.__init__(self, self.id, \"Admin\")\n",
        "\n",
        "    def say_id(self):\n",
        "        super().say_id()\n",
        "        print(\"I am an Admin\")\n",
        "\n",
        "class Manager(Admin):\n",
        "    def say_id(self):\n",
        "        print(\"I am in charge.\")\n",
        "        super().say_id()\n",
        "\n",
        "class Meeting:\n",
        "    def __init__(self):\n",
        "        self.attendees = []\n",
        "\n",
        "    def __add__(self, other):\n",
        "        self.attendees.append(other)\n",
        "        print(\"Employee with ID\",other.id,\"added successfully  \")\n",
        "        return self\n",
        "\n",
        "    def __len__(self):\n",
        "        return len(self.attendees)\n",
        "\n",
        "\n",
        "# Código para probar\n",
        "e1 = Employee()\n",
        "e2 = Employee()\n",
        "e3 = Admin(\"Rowald\")\n",
        "e4 = Manager(\"Mikheltodd\")\n",
        "\n",
        "m1 = Meeting()\n",
        "m1 + e1\n",
        "m1 + e2\n",
        "m1 + e3\n",
        "m1 + e4\n",
        "print(f\"# Attendees to the meeting: {len(m1)}\")\n",
        "e1.set_name(\"carlos\")\n",
        "for e in m1.attendees:\n",
        "    print(f\"\\nMy name is {e.get_name()} and I work for {e._Employee__company}\")\n",
        "    e.say_id()\n",
        "    try:\n",
        "        e.say_user_info()\n",
        "    except AttributeError:\n",
        "        continue\n",
        "\n",
        "e1.del_name()\n"
      ],
      "metadata": {
        "id": "qVkdZyGoTEIl"
      },
      "execution_count": null,
      "outputs": []
    },
    {
      "cell_type": "markdown",
      "source": [
        "Presentado por Jose Mario Ramos Araujo (jose.ramosa@upb.edu.co)"
      ],
      "metadata": {
        "id": "FLV-XDBOUI2b"
      }
    }
  ],
  "metadata": {
    "colab": {
      "name": "Te damos la bienvenida a Colaboratory",
      "provenance": [],
      "include_colab_link": true
    },
    "kernelspec": {
      "display_name": "Python 3",
      "name": "python3"
    }
  },
  "nbformat": 4,
  "nbformat_minor": 0
}